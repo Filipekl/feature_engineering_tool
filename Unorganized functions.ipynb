{
 "cells": [
  {
   "cell_type": "markdown",
   "metadata": {},
   "source": [
    "# Need to organize these functions\n",
    "## Currently just a code dump"
   ]
  },
  {
   "cell_type": "code",
   "execution_count": null,
   "metadata": {
    "collapsed": true
   },
   "outputs": [],
   "source": [
    "def get_counts(table):\n",
    "    new_var = pd.DataFrame({'LF_CNT_BUREAU_RECORD': df_bureau.groupby('SK_ID_CURR')['SK_ID_CURR'].count()})\n",
    "    table = pd.merge(table, new_var, on='SK_ID_CURR', suffixes=('',''))\n",
    "    return table"
   ]
  },
  {
   "cell_type": "code",
   "execution_count": null,
   "metadata": {
    "collapsed": true
   },
   "outputs": [],
   "source": [
    "for col in col_to_transform:\n",
    "    new_var = df_bureau.groupby(['SK_ID_CURR', col]).count()[['SK_ID_BUREAU']].reset_index().pivot(index='SK_ID_CURR',\n",
    "                                                                                                    columns=col,\n",
    "                                                                                                    values='SK_ID_BUREAU')\n",
    "    names = []\n",
    "    for col_name in new_var.columns:\n",
    "        name = 'LF_CNT_' + col + '_' + col_name\n",
    "        names.append(name)\n",
    "    new_var.columns = names\n",
    "    new_var.fillna(0, inplace=True)\n",
    "    df_application = pd.merge(df_application, new_var, on='SK_ID_CURR', suffixes=('',''))"
   ]
  },
  {
   "cell_type": "code",
   "execution_count": null,
   "metadata": {
    "collapsed": true
   },
   "outputs": [],
   "source": [
    "# Number of Categories\n",
    "def categorical_counts(data, col_to_transform, table_name, df_ids):\n",
    "    new_data = df_ids\n",
    "    for col in col_to_transform:\n",
    "        new_var = data.groupby(['SK_ID_CURR', col]).count()[['SK_ID_PREV']].reset_index().pivot(index='SK_ID_CURR',\n",
    "                                                                                                        columns=col,\n",
    "                                                                                                        values='SK_ID_PREV')\n",
    "        names = []\n",
    "        for col_name in new_var.columns:\n",
    "            name = f'LF_CNT_{col}_{col_name.replace(\" \",  \"_\")}_{table_name}'\n",
    "            names.append(name)\n",
    "        new_var.columns = names\n",
    "        new_var.fillna(0, inplace=True)\n",
    "        new_data = pd.merge(df_ids, new_var, on='SK_ID_CURR', suffixes=('', ''))\n",
    "    return new_data"
   ]
  },
  {
   "cell_type": "code",
   "execution_count": null,
   "metadata": {
    "collapsed": true
   },
   "outputs": [],
   "source": [
    "# Statistics around Numerical values conditional on 'CREDIT_ACTIVE'\n",
    "def get_num_var_stats(data, meta_data, df_ids):\n",
    "    new_data = df_ids\n",
    "    new_vars = data[[meta_data['foreign_key']]+meta_data['num_vars']] \\\n",
    "                .groupby(['SK_ID_CURR']) \\\n",
    "                .aggregate([np.max,\n",
    "                            np.min, \n",
    "                            np.median, \n",
    "                            np.mean, \n",
    "                            np.std]).reset_index()\n",
    "    names = []\n",
    "    for cat in new_vars.columns.levels[0].drop('SK_ID_CURR'):\n",
    "        for agg in new_vars.columns.levels[1].drop(''):\n",
    "            name = [f'{cat}_{agg}_{meta_data[\"table_name\"]}']\n",
    "            names = names + name\n",
    "    names = names + ['SK_ID_CURR']\n",
    "    new_vars.columns = names\n",
    "    new_data = pd.merge(new_data, new_vars, on='SK_ID_CURR')\n",
    "    return new_data"
   ]
  },
  {
   "cell_type": "code",
   "execution_count": null,
   "metadata": {
    "collapsed": true
   },
   "outputs": [],
   "source": [
    "def get_binary_var_counts(data, meta_data, df_ids):\n",
    "    new_data = df_ids\n",
    "    new_vars = data[[meta_data['foreign_key']]+meta_data['binary_vars']] \\\n",
    "                .groupby(['SK_ID_CURR']) \\\n",
    "                .count() \\\n",
    "                .reset_index()\n",
    "    new_data = pd.merge(new_data, new_vars, on=\"SK_ID_CURR\")\n",
    "    return new_data"
   ]
  },
  {
   "cell_type": "code",
   "execution_count": null,
   "metadata": {
    "collapsed": true
   },
   "outputs": [],
   "source": []
  }
 ],
 "metadata": {
  "kernelspec": {
   "display_name": "Python 3",
   "language": "python",
   "name": "python3"
  },
  "language_info": {
   "codemirror_mode": {
    "name": "ipython",
    "version": 3
   },
   "file_extension": ".py",
   "mimetype": "text/x-python",
   "name": "python",
   "nbconvert_exporter": "python",
   "pygments_lexer": "ipython3",
   "version": "3.6.6"
  },
  "toc": {
   "colors": {
    "hover_highlight": "#DAA520",
    "navigate_num": "#000000",
    "navigate_text": "#333333",
    "running_highlight": "#FF0000",
    "selected_highlight": "#FFD700",
    "sidebar_border": "#EEEEEE",
    "wrapper_background": "#FFFFFF"
   },
   "moveMenuLeft": true,
   "nav_menu": {
    "height": "48px",
    "width": "252px"
   },
   "navigate_menu": true,
   "number_sections": true,
   "sideBar": true,
   "threshold": 4,
   "toc_cell": false,
   "toc_section_display": "block",
   "toc_window_display": false,
   "widenNotebook": false
  }
 },
 "nbformat": 4,
 "nbformat_minor": 2
}
